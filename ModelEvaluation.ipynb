{
 "cells": [
  {
   "cell_type": "code",
   "execution_count": 1,
   "metadata": {
    "jupyter": {
     "source_hidden": true
    }
   },
   "outputs": [],
   "source": [
    "%%capture\n",
    "\n",
    "'''\n",
    "This code is preparation for the contents in this chapter.\n",
    "Most functions used in this code is introduced before.\n",
    "''' \n",
    "\n",
    "import numpy as np\n",
    "import pandas as pd\n",
    "import matplotlib.pyplot as plt\n",
    "from sklearn.preprocessing import StandardScaler\n",
    "from sklearn.linear_model import LogisticRegression\n",
    "from sklearn.datasets import load_breast_cancer\n",
    "\n",
    "# load data\n",
    "cancer_data = load_breast_cancer()\n",
    "df_cancer = pd.DataFrame(cancer_data.data, columns=cancer_data.feature_names)\n",
    "\n",
    "# standardize feature data\n",
    "scale = StandardScaler()\n",
    "scale.fit(df_cancer)\n",
    "\n",
    "# prepare train and test data\n",
    "X = scale.transform(df_cancer)\n",
    "y = cancer_data.target\n",
    "\n",
    "# build and train model\n",
    "model = LogisticRegression()\n",
    "model.fit(X, y)\n",
    "\n",
    "# make predictions\n",
    "y_pred = model.predict(X)"
   ]
  },
  {
   "cell_type": "markdown",
   "metadata": {},
   "source": [
    "# Model Evaluation\n",
    "**In this Jupyter Notebook, I applied the cancer dataset in scikit-learn instead of the titanic one used by Sololearn course.**\n",
    "\n",
    "## Evaluation Metrics\n",
    "---\n",
    "### Accuracy\n",
    "Accuracy is the percentage of predictions that are correct.\n",
    "\n",
    "Accuracy is a very straightforward and easy to understand metric, however it may not be appropriate to evaluate a model. _For example, if we were to build a model that predicts whether a credit card charge is fraudulent. Of 10000 credit card chards, we have 9900 legitimate charges and 100 fraudulent charges. A model that just predicts that every single charge is legitimate would get 9900/10000 (99%) of the predictions correct!_\n",
    "\n",
    "Accuracy is a good measure of a dataset evenly slit among all classes, but could be misleading if it is imbalanced. Before determining whether to use accuracy, you need to know the distribution of data."
   ]
  },
  {
   "cell_type": "code",
   "execution_count": 2,
   "metadata": {},
   "outputs": [
    {
     "data": {
      "text/plain": [
       "0.9876977152899824"
      ]
     },
     "execution_count": 2,
     "metadata": {},
     "output_type": "execute_result"
    }
   ],
   "source": [
    "model.score(X, y)"
   ]
  },
  {
   "cell_type": "markdown",
   "metadata": {},
   "source": [
    "or"
   ]
  },
  {
   "cell_type": "code",
   "execution_count": 3,
   "metadata": {},
   "outputs": [
    {
     "data": {
      "text/plain": [
       "0.9876977152899824"
      ]
     },
     "execution_count": 3,
     "metadata": {},
     "output_type": "execute_result"
    }
   ],
   "source": [
    "from sklearn.metrics import accuracy_score\n",
    "accuracy_score(y, y_pred)"
   ]
  },
  {
   "cell_type": "markdown",
   "metadata": {},
   "source": [
    "### Confusion Matrix\n",
    "Confusion Matrix gives more details about for which targets the model get wrong often, and which targets it considers them to be. _Take the previous example of breast cancer. Consider a person who doesn't have a cancer but actually doesn't, and another person who actually has cancer but isn't diagnosed. The latter scenario is more fatal, so should be especially considered. In order to know the number of each scenarios we require a confusion matrix._"
   ]
  },
  {
   "cell_type": "code",
   "execution_count": 4,
   "metadata": {},
   "outputs": [
    {
     "name": "stdout",
     "output_type": "stream",
     "text": [
      "[[207   5]\n",
      " [  2 355]]\n"
     ]
    },
    {
     "data": {
      "image/png": "[encoded data removed]",
      "text/plain": [
       "<Figure size 432x288 with 2 Axes>"
      ]
     },
     "metadata": {
      "needs_background": "light"
     },
     "output_type": "display_data"
    }
   ],
   "source": [
    "from sklearn.metrics import confusion_matrix, plot_confusion_matrix\n",
    "print(confusion_matrix(y, y_pred))\n",
    "plot_confusion_matrix(model, X, y,\n",
    "                      cmap=plt.cm.Blues,\n",
    "                      display_labels=cancer_data.target_names)\n",
    "plt.show()"
   ]
  },
  {
   "cell_type": "markdown",
   "metadata": {},
   "source": [
    "This is specific for logistic regression (with binary targets).\n",
    "- A true positive (TP) is a data point we predicted positively that we were correct about.\n",
    "- A true negative (TN) is a data point we predicted negatively that we were correct about.\n",
    "- A false positive (FP) is a data point we predicted positively that we were incorrect about.\n",
    "- A false negative (FN) is a data point we predicted negatively that we were incorrect about.\n",
    "\n",
    "![confusion matrix](https://api.sololearn.com/DownloadFile?id=3797)"
   ]
  },
  {
   "cell_type": "markdown",
   "metadata": {},
   "source": [
    "## Precision and Recall\n",
    "---\n",
    "Two commonly used metrics for classification are __precision__ and __recall__. Conceptually, __precision__ refers to the percentage of positive results  which are relevant and __recall__ to the percentage of positive cases correctly classified.\n",
    "\n",
    "$$Precision\n",
    "  =\\frac{\\text{# of positive predicted correctly}}{\\text{# of positive predictions}}\n",
    "  =\\frac{TP}{TP + FP}$$\n",
    "\n",
    "$$Recall\n",
    "  =\\frac{\\text{# of positive predicted correctly}}{\\text{# of positive cases}}\n",
    "  =\\frac{TP}{TP + FN}$$\n",
    "  \n",
    "For example, if benign is the positive case in the cancer model (as it is represented by 1),"
   ]
  },
  {
   "cell_type": "code",
   "execution_count": 5,
   "metadata": {},
   "outputs": [
    {
     "name": "stdout",
     "output_type": "stream",
     "text": [
      "precision 0.9861111111111112\n",
      "recall    0.9943977591036415\n"
     ]
    }
   ],
   "source": [
    "((tn, fp), (fn, tp)) = confusion_matrix(y, y_pred)\n",
    "precision = tp / (tp + fp)\n",
    "recall = tp / (tp + fn)\n",
    "print('precision', precision)\n",
    "print('recall   ', recall)"
   ]
  },
  {
   "cell_type": "markdown",
   "metadata": {},
   "source": [
    "or using sklearn function,"
   ]
  },
  {
   "cell_type": "code",
   "execution_count": 6,
   "metadata": {},
   "outputs": [
    {
     "name": "stdout",
     "output_type": "stream",
     "text": [
      "precision 0.9861111111111112\n",
      "recall    0.9943977591036415\n"
     ]
    }
   ],
   "source": [
    "from sklearn.metrics import precision_score, recall_score\n",
    "\n",
    "print('precision', precision_score(y, y_pred))\n",
    "print('recall   ', recall_score(y, y_pred))"
   ]
  },
  {
   "cell_type": "markdown",
   "metadata": {},
   "source": [
    "### Precision and Recall Trade-off\n",
    "We often need to choose between increasing the recall (while lowering the precision) or the opposite. It will depend on the situation which we want to maximize. For example, let's say we are building a model to predict if a credit card is fraudulent. The positive cases are fraudulent charges and the negative cases are legitimate charges.\n",
    "Let's consider two scenarios:\n",
    "\n",
    "1. If we predict the charge is fraudulent, we'll reject the charge.<br>\n",
    "In this case, it's a huge inconvenience for the customer when the model predicts fraud incorrectly (a false positive). Because of the high cost this could incur, it would be worth having a low recall in order to have a very high precision.\n",
    "\n",
    "2. If we predict the charge is fraudulent, we'll call the customer to confirm the charge.<br>\n",
    "In this case, a false positive is a relatively minor inconvenience for the customer. Therefore, you would want more of a balance between precision and recall.\n",
    "\n",
    "The choice of precision and recall trade-off depends on the dataset and the application."
   ]
  },
  {
   "cell_type": "markdown",
   "metadata": {},
   "source": [
    "## F1 Score\n",
    "Precision and recall are two numbers so it's not obvious how to choose between two models if one has a higher precision while the other has higher recall. The F1 score is a balance of precision and recall so that we have a single score for our model. The formula is:\n",
    "\n",
    "$$\\text{F1 score} = 2\\cdot\\frac{precision \\cdot recall}{precision + recall}$$"
   ]
  },
  {
   "cell_type": "code",
   "execution_count": 7,
   "metadata": {},
   "outputs": [
    {
     "name": "stdout",
     "output_type": "stream",
     "text": [
      "f1 score 0.9902370990237099\n"
     ]
    }
   ],
   "source": [
    "f1_score = 2 * precision * recall / (precision + recall)\n",
    "print('f1 score', f1_score)"
   ]
  },
  {
   "cell_type": "markdown",
   "metadata": {},
   "source": [
    "or using sklearn function,"
   ]
  },
  {
   "cell_type": "code",
   "execution_count": 8,
   "metadata": {},
   "outputs": [
    {
     "name": "stdout",
     "output_type": "stream",
     "text": [
      "f1 score 0.9902370990237099\n"
     ]
    }
   ],
   "source": [
    "from sklearn.metrics import f1_score\n",
    "\n",
    "print('f1 score', f1_score(y, y_pred))"
   ]
  },
  {
   "cell_type": "markdown",
   "metadata": {},
   "source": [
    "## Training and Testing\n",
    "---\n",
    "### Overfitting\n",
    "So far we've built a model with all of our data and seen how well it performed on the same set of data. This is artificially inflating the model since our model is evaluated by the same data it used for training. This can lead to overfitting. __Overfitting__ is when a model perform extremely well on the data it is given, but doesn't perform as well on new data.\n",
    "\n",
    "Below graph shows an overfitting model. The line is too closely trying to get every single data point on the correct side of the line but is missing the essence of the data. A single outline could really throw off the location of the line.  \n",
    "![An overfitting model](https://api.sololearn.com/DownloadFile?id=3781)\n",
    "\n",
    "_The more features we have in our dataset, the more prone we are to overfitting._"
   ]
  },
  {
   "cell_type": "markdown",
   "metadata": {},
   "source": [
    "### Training Set and Test Set\n",
    "To give a model a fair assessment, we need to know how well our data would perform on data it hasn't seen yet. To simulate making predictions on new unseen data, we can break our dataset into a training set and a test set. The __training set__ is used for building the model, whereas the __test set__ is used for evaluating the model.\n",
    "\n",
    "_A standard breakdown is to put 70-80% of data in the training set and 20-30% in the test set._"
   ]
  },
  {
   "cell_type": "markdown",
   "metadata": {},
   "source": [
    "### Training and Testing in Sklearn\n",
    "Scikit-learn has a function built in for splitting data into a training set and a test set - `train_test_split`. It randomly put each data point in either the training set or the test set.\n",
    "_By default, the training set is 75% of the data and the test set is the remaining 25%. Use `train_size` or `test_size` keyword argument to alter this proportion._"
   ]
  },
  {
   "cell_type": "code",
   "execution_count": 9,
   "metadata": {},
   "outputs": [],
   "source": [
    "from sklearn.model_selection import train_test_split\n",
    "\n",
    "X_train, X_test, y_train, y_test = train_test_split(X, y, test_size=.3)"
   ]
  },
  {
   "cell_type": "code",
   "execution_count": 10,
   "metadata": {},
   "outputs": [
    {
     "name": "stdout",
     "output_type": "stream",
     "text": [
      "whole dataset (569, 30) (569,)\n",
      "train dataset (398, 30) (398,)\n",
      "test dataset  (171, 30) (171,)\n"
     ]
    }
   ],
   "source": [
    "print('whole dataset', X.shape, y.shape)\n",
    "print('train dataset', X_train.shape, y_train.shape)\n",
    "print('test dataset ', X_test.shape, y_test.shape)"
   ]
  },
  {
   "cell_type": "markdown",
   "metadata": {},
   "source": [
    "_The data is randomly split, so their content could be different every run. To ensure that we get the same output every time we run the code, we arbitrarily pass a seed to `random_state` keyword._"
   ]
  },
  {
   "cell_type": "markdown",
   "metadata": {},
   "source": [
    "### Rebuild the Model with the Training Set\n",
    "Rebuild the model with the training set and reevaluate using the test set."
   ]
  },
  {
   "cell_type": "code",
   "execution_count": 11,
   "metadata": {},
   "outputs": [
    {
     "data": {
      "image/png": "[encoded data removed]",
      "text/plain": [
       "<Figure size 432x288 with 2 Axes>"
      ]
     },
     "metadata": {
      "needs_background": "light"
     },
     "output_type": "display_data"
    },
    {
     "name": "stdout",
     "output_type": "stream",
     "text": [
      "accuracy  0.9590643274853801\n",
      "precision 0.9339622641509434\n",
      "recall    1.0\n",
      "f1 score  0.9658536585365853\n"
     ]
    }
   ],
   "source": [
    "# retrain and repredict\n",
    "model.fit(X_train, y_train)\n",
    "y_pred = model.predict(X_test)\n",
    "\n",
    "# reevaluate\n",
    "((tn, fp), (fn, tp)) = confusion_matrix(y_test, y_pred)\n",
    "plot_confusion_matrix(model, X_test, y_test,\n",
    "                      cmap=plt.cm.Blues,\n",
    "                      display_labels=cancer_data.target_names)\n",
    "plt.show()\n",
    "print('accuracy ', accuracy_score(y_test, y_pred))\n",
    "print('precision', precision_score(y_test, y_pred))\n",
    "print('recall   ', recall_score(y_test, y_pred))\n",
    "print('f1 score ', f1_score(y_test, y_pred))"
   ]
  },
  {
   "cell_type": "markdown",
   "metadata": {},
   "source": [
    "The performance is very similar to when we are using the entire dataset to train and evaluate. This suggests that the model is not overfitting."
   ]
  },
  {
   "cell_type": "markdown",
   "metadata": {},
   "source": [
    "## Foundations for the ROC Curve\n",
    "---\n",
    "### Logistic Regression Threshold\n",
    "Recall we talked about the trade-off between precision and recall. With a logistic regression model, there exists an easy way of shifting between precision and recall. The logistic regression model can return a probability between 0 and 1. Typically, a value below 0.5 is negative and one above 0.5 is positive. However, the threshold (default to 0.5) can be changed.\n",
    "If we make the threshold higher, we'll have fewer positive predictions, but our positive predictions are more likely to be correct. This means that the precision will be higher. On the other hand, if we make the threshold lower, we'll have more positive predictions, so we're more likely to catch all the positive cases. This means that the recall would be higher and the precision lower.\n",
    "_Each choice of threshold can be considered a different model. An ROC (receiver operating characteristic) Curve is a graph showing all of the possible models and their performance._"
   ]
  },
  {
   "cell_type": "markdown",
   "metadata": {},
   "source": [
    "### Sensitivity and Specificity\n",
    "An ROC Curve is a graph of the __sensitivity__ vs. the __specificity__. These values demonstrate a similar trade-off that precision and recall demonstrate.\n",
    "\n",
    "![confusion matrix](https://api.sololearn.com/DownloadFile?id=3797)\n",
    "\n",
    "The sensitivity is actually just another term for recall, which is the true positive rate. The specificity is the true negative rate. They are calculated as follows.\n",
    "\n",
    "$$\n",
    "Sensitivity\n",
    "    =Recall\n",
    "    =\\frac{\\text{# of positive predicted correctly}}{\\text{# of positive cases}}\n",
    "    =\\frac{TP}{TP + FN}\n",
    "$$\n",
    "  \n",
    "$$\n",
    "Specificity\n",
    "    =\\frac{\\text{# of negative predicted correctly}}{\\text{# of negative cases}}\n",
    "    =\\frac{TN}{TN + FP}\n",
    "$$\n",
    "  \n",
    "![cancer confusion matrix (after train_test_split)](res/cancer_split_confusion_matrix.png)"
   ]
  },
  {
   "cell_type": "code",
   "execution_count": 12,
   "metadata": {},
   "outputs": [
    {
     "name": "stdout",
     "output_type": "stream",
     "text": [
      "sensitivity 1.0\n",
      "specificity 0.9027777777777778\n"
     ]
    }
   ],
   "source": [
    "sensitivity = tp / (tp + fn)\n",
    "specificity = tn / (tn + fp)\n",
    "print('sensitivity', sensitivity)\n",
    "print('specificity', specificity)"
   ]
  },
  {
   "cell_type": "markdown",
   "metadata": {},
   "source": [
    "The goal is to maximize these two values, though generally making one larger makes the other lower. It will depend on the situation whether we put more emphasis on sensitivity or specificity.\n",
    "\n",
    "_While we generally look at precision and recall values, for graphing the standard is to use the sensitivity and specificity._\n",
    "\n",
    "Scikit-learn has not defined functions for sensitivity and specificity explicitly. Sensitivity is the same as recall, so it is easy to define."
   ]
  },
  {
   "cell_type": "code",
   "execution_count": 13,
   "metadata": {},
   "outputs": [
    {
     "name": "stdout",
     "output_type": "stream",
     "text": [
      "sensitivity 1.0\n"
     ]
    }
   ],
   "source": [
    "from sklearn.metrics import recall_score\n",
    "sensitivity_score = recall_score\n",
    "print('sensitivity', sensitivity_score(y_test, y_pred))"
   ]
  },
  {
   "cell_type": "markdown",
   "metadata": {},
   "source": [
    "Note that specificity is the recall of the negative class. Scikit-learn provides a `precision_recall_fscore_support` function, in which the second array contains the recall for both the negative and the positive classes. We write a function to extract the first value of the second array, which is the specificity."
   ]
  },
  {
   "cell_type": "code",
   "execution_count": 14,
   "metadata": {},
   "outputs": [
    {
     "name": "stdout",
     "output_type": "stream",
     "text": [
      "specificity 0.9027777777777778\n"
     ]
    }
   ],
   "source": [
    "from sklearn.metrics import precision_recall_fscore_support\n",
    "\n",
    "def specificity_score(y_test, y_pred):\n",
    "    p, r, f, s = precision_recall_fscore_support(y_test, y_pred)\n",
    "    return r[0]\n",
    "\n",
    "print('specificity', specificity_score(y_test, y_pred))"
   ]
  },
  {
   "cell_type": "markdown",
   "metadata": {},
   "source": [
    "### Adjusting the Logistic Regression Threshold in Sklearn\n",
    "When you are using scikit-learn's `LogisticRegression.predict` function, you are getting values of either 0 or 1. However, the underlying predicted values is probabilistic, that is between 0 and 1. We need those probability values in order to predict with a threshold other than 0.5. We can get them using the `predict_proba` function."
   ]
  },
  {
   "cell_type": "code",
   "execution_count": 15,
   "metadata": {},
   "outputs": [
    {
     "data": {
      "text/plain": [
       "array([[1.26617966e-02, 9.87338203e-01],\n",
       "       [9.99983599e-01, 1.64014140e-05],\n",
       "       [5.88849309e-07, 9.99999411e-01],\n",
       "       [9.99984449e-01, 1.55505368e-05],\n",
       "       [1.05727046e-07, 9.99999894e-01]])"
      ]
     },
     "execution_count": 15,
     "metadata": {},
     "output_type": "execute_result"
    }
   ],
   "source": [
    "model.predict_proba(X_test)[:5]"
   ]
  },
  {
   "cell_type": "markdown",
   "metadata": {},
   "source": [
    "The results is a numpy array with 2 values for each data point. The two values should add up to 1. The first value is the probability that the data point is in the 0 class and the second is the probability that the data point is in the 1 class. In the case, we only need the second column, which represents the probability that a cancer is benign. If we want to raise the threshold to 0.75, then we compare the array with 0.75. This returns a boolean array."
   ]
  },
  {
   "cell_type": "code",
   "execution_count": 16,
   "metadata": {},
   "outputs": [
    {
     "data": {
      "text/plain": [
       "array([ True, False,  True, False,  True])"
      ]
     },
     "execution_count": 16,
     "metadata": {},
     "output_type": "execute_result"
    }
   ],
   "source": [
    "y_pred = model.predict_proba(X_test)[:, 1] > 0.75\n",
    "y_pred[:5]"
   ]
  },
  {
   "cell_type": "markdown",
   "metadata": {},
   "source": [
    "Now we reevaluate the new predictions."
   ]
  },
  {
   "cell_type": "code",
   "execution_count": 17,
   "metadata": {},
   "outputs": [
    {
     "name": "stdout",
     "output_type": "stream",
     "text": [
      "precision 0.9514563106796117\n",
      "recall    0.98989898989899\n"
     ]
    }
   ],
   "source": [
    "print('precision', precision_score(y_test, y_pred))\n",
    "print('recall   ', recall_score(y_test, y_pred))"
   ]
  },
  {
   "cell_type": "markdown",
   "metadata": {},
   "source": [
    "## The ROC Curve\n",
    "---\n",
    "### How to Build an ROC Curve\n",
    "\n",
    "The ROC curve is the graph of the sensitivity vs the specificity. We build a logistic regression model and then calculate the sensitivity and specificity for every possible threshold. For example, if we have 5 data points with the following predicted probabilities: 0.3, 0.4, 0.6, 0.7, 0.8, we should use each of those five values as threshold.\n",
    "\n",
    "Note the standard is that we plot the $sensitivity$ against $(1 - specificity)$.\n",
    "\n",
    "We first use the `predict_proba` method on the model to get the possibilities. Then, we call the `roc_curve` function."
   ]
  },
  {
   "cell_type": "code",
   "execution_count": 18,
   "metadata": {},
   "outputs": [
    {
     "name": "stdout",
     "output_type": "stream",
     "text": [
      "fpr = array([0.        , 0.        , 0.        , 0.01388889, 0.01388889,\n",
      "       0.02777778, 0.02777778, 0.04166667, 0.04166667, 0.06944444,\n",
      "       0.06944444, 1.        ])\n",
      "tnr = array([0.        , 0.01010101, 0.54545455, 0.54545455, 0.88888889,\n",
      "       0.88888889, 0.90909091, 0.90909091, 0.97979798, 0.97979798,\n",
      "       1.        , 1.        ])\n",
      "thresholds = array([1.99999999e+00, 9.99999995e-01, 9.98759134e-01, 9.98367169e-01,\n",
      "       9.48490566e-01, 9.38288626e-01, 9.26528849e-01, 9.12602086e-01,\n",
      "       8.19052004e-01, 7.87452902e-01, 7.46512686e-01, 1.40938577e-13])\n"
     ]
    }
   ],
   "source": [
    "from sklearn.metrics import roc_curve\n",
    "\n",
    "y_pred_proba = model.predict_proba(X_test)\n",
    "fpr, tnr, thresholds = roc_curve(y_test, y_pred_proba[:, 1])\n",
    "\n",
    "print(f'{fpr = }',\n",
    "      f'{tnr = }',\n",
    "      f'{thresholds = }',\n",
    "      sep='\\n')"
   ]
  },
  {
   "cell_type": "markdown",
   "metadata": {},
   "source": [
    "The function returns an array of false positive rates, true negative rates and the thresholds. The false positive rate is $(1 - specificity)$ and the true positive rate is $sensitivity$. We plot the false positive rate on x-axis and true positive rate on the y-axis. Threshold values are not needed in this graph."
   ]
  },
  {
   "cell_type": "code",
   "execution_count": 19,
   "metadata": {},
   "outputs": [
    {
     "data": {
      "image/png": "[encoded data removed]",
      "text/plain": [
       "<Figure size 432x288 with 1 Axes>"
      ]
     },
     "metadata": {
      "needs_background": "light"
     },
     "output_type": "display_data"
    }
   ],
   "source": [
    "plt.plot(fpr, tnr)\n",
    "plt.plot([0, 1], [0, 1], '--')\n",
    "plt.xlim([0, 1])\n",
    "plt.ylim([0, 1])\n",
    "plt.xlabel('1 - specificity')\n",
    "plt.ylabel('sensitivity')\n",
    "plt.show()"
   ]
  },
  {
   "cell_type": "markdown",
   "metadata": {},
   "source": [
    "### Interpreting the ROC Curve\n",
    "The curve shows performance of a model with different thresholds, with each point representing the sensitivity and specificity of the model. How to choose between the threshold values depend on the specifics of the situation.\n",
    "\n",
    "- If it is more important that all of our positive predictions are correct than that we catch all positive cases (i.e. we predict more of the negative cases correctly), then we choose the model with higher specificity - models to the left of the graph.\n",
    "- If it is important that we catch as many positive case as possible, we should choose a model with higher sensitivity - models to the top of the graph.\n",
    "- If we want more of a balance between both, we choose a model in the middle.\n",
    "\n",
    "In this cancer case, we would like to catch all negative (malignant) cases. To achieve that, we maximize specificity. Models with greater threshold fulfills the requirement."
   ]
  },
  {
   "cell_type": "markdown",
   "metadata": {},
   "source": [
    "### Areas Under the Curve\n",
    "We'll sometimes want to use the ROC curve to compare two different models.\n",
    "\n",
    "The closer the graph is to the upper left corner, the better the performance of a model. The line should never fall below the the diagonal line as that would mean it performs worse than a random model. \n",
    "\n",
    "Below are the ROC curves of two models with different features."
   ]
  },
  {
   "cell_type": "code",
   "execution_count": 20,
   "metadata": {},
   "outputs": [
    {
     "data": {
      "image/png": "[encoded data removed]",
      "text/plain": [
       "<Figure size 432x288 with 1 Axes>"
      ]
     },
     "metadata": {
      "needs_background": "light"
     },
     "output_type": "display_data"
    }
   ],
   "source": [
    "X_train_o, X_test_o = X_train[:, [0]], X_test[:, [0]]\n",
    "\n",
    "model_o = LogisticRegression()\n",
    "model_o.fit(X_train_o, y_train)\n",
    "y_pred_proba_o = model_o.predict_proba(X_test_o)\n",
    "fpr_o, tnr_o, thresholds_o = roc_curve(y_test, y_pred_proba_o[:, 1])\n",
    "\n",
    "plt.plot(fpr, tnr, label='all features')\n",
    "plt.plot(fpr_o, tnr_o, label='mean radius')\n",
    "plt.plot([0, 1], [0, 1], '--')\n",
    "plt.xlim([0, 1])\n",
    "plt.ylim([0, 1])\n",
    "plt.title('Model Comparison')\n",
    "plt.xlabel('1 - specificity')\n",
    "plt.ylabel('sensitivity')\n",
    "plt.legend()\n",
    "plt.show()"
   ]
  },
  {
   "cell_type": "markdown",
   "metadata": {},
   "source": [
    "The orange curve is the ROC curve of a new model using only the mean radius feature. The original blue curve is above and left to the orange one, which suggests that the original model outperforms the new model.\n",
    "\n",
    "To get an empirical measure of this, we calculate the __Area Under the Curve__, abbreviated as __AUC__. It's a value between 0 and 1. The value represents the performance of a logistic regression model at all possible thresholds. It is used to compare two different models, instead of models with different thresholds."
   ]
  },
  {
   "cell_type": "code",
   "execution_count": 21,
   "metadata": {},
   "outputs": [
    {
     "name": "stdout",
     "output_type": "stream",
     "text": [
      "Blue 0.9903198653198654\n",
      "Orange 0.9248737373737373\n"
     ]
    }
   ],
   "source": [
    "from sklearn.metrics import roc_auc_score\n",
    "\n",
    "auc = roc_auc_score(y_test, y_pred_proba[:, 1])\n",
    "auc_o = roc_auc_score(y_test, y_pred_proba_o[:, 1])\n",
    "\n",
    "print('Blue', auc)\n",
    "print('Orange', auc_o)"
   ]
  },
  {
   "cell_type": "markdown",
   "metadata": {},
   "source": [
    "We can see empirically the model that the blue curve represents is better."
   ]
  },
  {
   "cell_type": "markdown",
   "metadata": {},
   "source": [
    "## K-fold Cross Validation\n",
    "---\n",
    "\n",
    "### Concerns with Training and Test Dataset\n",
    "The purpose of evaluation is to get an accurate measure of how well the model performs. Recall that we perform a train test split on the dataset. The data points in the training set is never used to evaluate. Thus it might not be a good random assortment of data points. This is especially apparent with a small dataset."
   ]
  },
  {
   "cell_type": "code",
   "execution_count": 22,
   "metadata": {},
   "outputs": [
    {
     "data": {
      "text/html": [
       "<div>\n",
       "<style scoped>\n",
       "    .dataframe tbody tr th:only-of-type {\n",
       "        vertical-align: middle;\n",
       "    }\n",
       "\n",
       "    .dataframe tbody tr th {\n",
       "        vertical-align: top;\n",
       "    }\n",
       "\n",
       "    .dataframe thead th {\n",
       "        text-align: right;\n",
       "    }\n",
       "</style>\n",
       "<table border=\"1\" class=\"dataframe\">\n",
       "  <thead>\n",
       "    <tr style=\"text-align: right;\">\n",
       "      <th></th>\n",
       "      <th>accuracy</th>\n",
       "      <th>percision</th>\n",
       "      <th>recall</th>\n",
       "      <th>f1 score</th>\n",
       "    </tr>\n",
       "  </thead>\n",
       "  <tbody>\n",
       "    <tr>\n",
       "      <th>0</th>\n",
       "      <td>0.982</td>\n",
       "      <td>0.980</td>\n",
       "      <td>0.990</td>\n",
       "      <td>0.985</td>\n",
       "    </tr>\n",
       "    <tr>\n",
       "      <th>1</th>\n",
       "      <td>0.977</td>\n",
       "      <td>0.991</td>\n",
       "      <td>0.973</td>\n",
       "      <td>0.982</td>\n",
       "    </tr>\n",
       "    <tr>\n",
       "      <th>2</th>\n",
       "      <td>0.965</td>\n",
       "      <td>0.991</td>\n",
       "      <td>0.955</td>\n",
       "      <td>0.972</td>\n",
       "    </tr>\n",
       "    <tr>\n",
       "      <th>3</th>\n",
       "      <td>0.977</td>\n",
       "      <td>0.973</td>\n",
       "      <td>0.991</td>\n",
       "      <td>0.982</td>\n",
       "    </tr>\n",
       "    <tr>\n",
       "      <th>4</th>\n",
       "      <td>0.988</td>\n",
       "      <td>0.991</td>\n",
       "      <td>0.991</td>\n",
       "      <td>0.991</td>\n",
       "    </tr>\n",
       "  </tbody>\n",
       "</table>\n",
       "</div>"
      ],
      "text/plain": [
       "   accuracy  percision  recall  f1 score\n",
       "0     0.982      0.980   0.990     0.985\n",
       "1     0.977      0.991   0.973     0.982\n",
       "2     0.965      0.991   0.955     0.972\n",
       "3     0.977      0.973   0.991     0.982\n",
       "4     0.988      0.991   0.991     0.991"
      ]
     },
     "execution_count": 22,
     "metadata": {},
     "output_type": "execute_result"
    }
   ],
   "source": [
    "from datetime import datetime\n",
    "\n",
    "iterations = 5\n",
    "\n",
    "metrics_vs = pd.DataFrame(columns=[\"accuracy\", \"percision\", \"recall\", \"f1 score\"])\n",
    "\n",
    "for i in range(iterations):\n",
    "    seed = datetime.now().microsecond\n",
    "    X_train_vs, X_test_vs, y_train_vs, y_test_vs = train_test_split(X, y, test_size=.3, random_state=seed)\n",
    "    model_vs = LogisticRegression()\n",
    "    model_vs.fit(X_train_vs, y_train_vs)\n",
    "    y_pred_vs = model_vs.predict(X_test_vs)\n",
    "    metrics_vs.loc[i] = [accuracy_score(y_pred_vs, y_test_vs),\n",
    "                         precision_score(y_pred_vs, y_test_vs),\n",
    "                         recall_score(y_pred_vs, y_test_vs),\n",
    "                         f1_score(y_pred_vs, y_test_vs)]\n",
    "    \n",
    "metrics_vs.round(3)"
   ]
  },
  {
   "cell_type": "markdown",
   "metadata": {},
   "source": [
    "### Building and Evaluating with Multiple Training and Test Sets\n",
    "\n",
    "As shown above, depending on the split we can get very different values for the evaluation metrics. We need to get a measure of how well our model does in general. We break the dataset into five equal chunks. Each chunk will serve as a test set, while the remaining four chunks combine as a training set. For each training set, we build a model and evaluate it. We average the five scores from the five models to get the final result.\n",
    "This process for creating multiple training and test sets is called k-fold cross validation. The k is the number of chunks we split our dataset into. The standard number is 5, as described above.\n",
    "\n",
    "Scikit-learn has implemented a `KFold` class to achieve k-fold cross validation with ease. The `split` method of `KFold` takes in the original data and yields indices which we can use to create the k-folded training and test sets."
   ]
  },
  {
   "cell_type": "code",
   "execution_count": 23,
   "metadata": {},
   "outputs": [
    {
     "data": {
      "text/plain": [
       "5"
      ]
     },
     "execution_count": 23,
     "metadata": {},
     "output_type": "execute_result"
    }
   ],
   "source": [
    "from sklearn.model_selection import KFold\n",
    "\n",
    "kf = KFold(n_splits=5, shuffle=True)\n",
    "split = kf.split(X)\n",
    "len(list(split))"
   ]
  },
  {
   "cell_type": "code",
   "execution_count": 24,
   "metadata": {},
   "outputs": [
    {
     "data": {
      "text/plain": [
       "0.9789473684210528"
      ]
     },
     "execution_count": 24,
     "metadata": {},
     "output_type": "execute_result"
    }
   ],
   "source": [
    "scores = []\n",
    "for train_indices, test_indices in kf.split(X):\n",
    "    X_train_kf = X[train_indices]\n",
    "    X_test_kf = X[test_indices]\n",
    "    y_train_kf = y[train_indices]\n",
    "    y_test_kf = y[test_indices]\n",
    "    model_kf = LogisticRegression()\n",
    "    model_kf.fit(X_train_kf, y_train_kf)\n",
    "    scores.append(model_kf.score(X_test, y_test))\n",
    "\n",
    "np.mean(scores)"
   ]
  },
  {
   "cell_type": "markdown",
   "metadata": {},
   "source": [
    "### Final Model Choice\n",
    "\n",
    "The five models used are only for evaluating a model with a small dataset. With little extra computational power, we get more accurate metrics of our model. We then use all the data to build our final model."
   ]
  },
  {
   "cell_type": "code",
   "execution_count": 25,
   "metadata": {},
   "outputs": [
    {
     "data": {
      "text/plain": [
       "LogisticRegression()"
      ]
     },
     "execution_count": 25,
     "metadata": {},
     "output_type": "execute_result"
    }
   ],
   "source": [
    "model_final = LogisticRegression()\n",
    "model_final.fit(X, y)"
   ]
  },
  {
   "cell_type": "markdown",
   "metadata": {},
   "source": [
    "## Model Comparison\n",
    "---\n",
    "### Comparing Different Models\n",
    "\n",
    "Now we have used various evaluation techniques to get scores for a single model. We also want to compare different models to determine which one performs best for a specific problem.\n",
    "\n",
    "We are going to build three models and compare them:\n",
    "- A logistic regression model with all features\n",
    "- A logistic regression model with only features of mean values\n",
    "- A logistic regression model with only mean radius and mean texture\n",
    "\n",
    "Recall that below are all the features within the cancer dataset."
   ]
  },
  {
   "cell_type": "code",
   "execution_count": 26,
   "metadata": {},
   "outputs": [
    {
     "data": {
      "text/plain": [
       "array(['mean radius', 'mean texture', 'mean perimeter', 'mean area',\n",
       "       'mean smoothness', 'mean compactness', 'mean concavity',\n",
       "       'mean concave points', 'mean symmetry', 'mean fractal dimension',\n",
       "       'radius error', 'texture error', 'perimeter error', 'area error',\n",
       "       'smoothness error', 'compactness error', 'concavity error',\n",
       "       'concave points error', 'symmetry error',\n",
       "       'fractal dimension error', 'worst radius', 'worst texture',\n",
       "       'worst perimeter', 'worst area', 'worst smoothness',\n",
       "       'worst compactness', 'worst concavity', 'worst concave points',\n",
       "       'worst symmetry', 'worst fractal dimension'], dtype='<U23')"
      ]
     },
     "execution_count": 26,
     "metadata": {},
     "output_type": "execute_result"
    }
   ],
   "source": [
    "features = cancer_data.feature_names\n",
    "features"
   ]
  },
  {
   "cell_type": "markdown",
   "metadata": {},
   "source": [
    "We wouldn't expect the second or third model to outperform the first one, as it contains less correlated information, but we might determine that using just those two or ten columns yields comparable performance to using all the columns."
   ]
  },
  {
   "cell_type": "markdown",
   "metadata": {},
   "source": [
    "### Building the Models\n",
    "\n",
    "We are building the models in scikit-learn and using the k-fold cross validation to calculate the accuracy, precision, recall and f1 score of them. First, let's prepare the data for each model."
   ]
  },
  {
   "cell_type": "code",
   "execution_count": 27,
   "metadata": {},
   "outputs": [],
   "source": [
    "# All features\n",
    "X1 = X\n",
    "# Features of mean values\n",
    "X2 = X[:, :10]\n",
    "# Mean radius and mean texture\n",
    "X3 = X[:, :2]"
   ]
  },
  {
   "cell_type": "markdown",
   "metadata": {},
   "source": [
    "We then initiate a k-fold splitter object."
   ]
  },
  {
   "cell_type": "code",
   "execution_count": 28,
   "metadata": {},
   "outputs": [],
   "source": [
    "kf_cp = KFold(n_splits=5, shuffle=True)"
   ]
  },
  {
   "cell_type": "markdown",
   "metadata": {},
   "source": [
    "Because we have to evaluate the three model with the same technique, we should create a function for code reusability."
   ]
  },
  {
   "cell_type": "code",
   "execution_count": 29,
   "metadata": {},
   "outputs": [],
   "source": [
    "def score_model(X, y, kf):\n",
    "    \n",
    "    scores = pd.DataFrame(index=np.arange(kf.n_splits),\n",
    "                          columns=[\"accuracy\", \"percision\", \"recall\", \"f1 score\"])\n",
    "    \n",
    "    n = 0\n",
    "    for train_indices, test_indices in kf.split(X):\n",
    "        X_train = X[train_indices]\n",
    "        X_test = X[test_indices]\n",
    "        y_train = y[train_indices]\n",
    "        y_test = y[test_indices]\n",
    "\n",
    "        model = LogisticRegression()\n",
    "        model.fit(X_train, y_train)\n",
    "        y_pred = model.predict(X_test)\n",
    "        \n",
    "        scores.iloc[n] = [accuracy_score(y_pred, y_test),\n",
    "                          precision_score(y_pred, y_test),\n",
    "                          recall_score(y_pred, y_test),\n",
    "                          f1_score(y_pred, y_test)]\n",
    "        n += 1\n",
    "        \n",
    "        \n",
    "        \n",
    "    return scores.mean()"
   ]
  },
  {
   "cell_type": "markdown",
   "metadata": {},
   "source": [
    "We call the function to evaluate the three models we prepared."
   ]
  },
  {
   "cell_type": "code",
   "execution_count": 30,
   "metadata": {},
   "outputs": [
    {
     "name": "stdout",
     "output_type": "stream",
     "text": [
      "=== Logistic regression with all features ===\n",
      "accuracy     0.978932\n",
      "percision    0.994286\n",
      "recall       0.973137\n",
      "f1 score     0.983427\n",
      "dtype: float64\n",
      "=== Logistic regression with ten mean features ===\n",
      "accuracy     0.938488\n",
      "percision    0.963431\n",
      "recall       0.940629\n",
      "f1 score     0.951513\n",
      "dtype: float64\n",
      "=== Logistic regression with mean radius & mean texture ===\n",
      "accuracy     0.885685\n",
      "percision    0.937848\n",
      "recall       0.886616\n",
      "f1 score     0.910971\n",
      "dtype: float64\n"
     ]
    }
   ],
   "source": [
    "print(\"=== Logistic regression with all features ===\")\n",
    "print(score_model(X1, y, kf_cp))\n",
    "print(\"=== Logistic regression with ten mean features ===\")\n",
    "print(score_model(X2, y, kf_cp))\n",
    "print(\"=== Logistic regression with mean radius & mean texture ===\")\n",
    "print(score_model(X3, y, kf_cp))"
   ]
  },
  {
   "cell_type": "markdown",
   "metadata": {},
   "source": [
    "### Choosing the Best Model\n",
    "\n",
    "We can see that the model performance drops significantly if we uses less features. Mean features alone is not sufficient to accurately decide the nature of the cancer. Thus, all the features are necessary to create a best possible model for this case. Now we build the final model."
   ]
  },
  {
   "cell_type": "code",
   "execution_count": 31,
   "metadata": {},
   "outputs": [
    {
     "data": {
      "text/plain": [
       "LogisticRegression()"
      ]
     },
     "execution_count": 31,
     "metadata": {},
     "output_type": "execute_result"
    }
   ],
   "source": [
    "model_final = LogisticRegression()\n",
    "model_final.fit(X1, y)"
   ]
  }
 ],
 "metadata": {
  "kernelspec": {
   "display_name": "Python 3 (ipykernel)",
   "language": "python",
   "name": "python3"
  },
  "language_info": {
   "codemirror_mode": {
    "name": "ipython",
    "version": 3
   },
   "file_extension": ".py",
   "mimetype": "text/x-python",
   "name": "python",
   "nbconvert_exporter": "python",
   "pygments_lexer": "ipython3",
   "version": "3.9.7"
  }
 },
 "nbformat": 4,
 "nbformat_minor": 4
}
