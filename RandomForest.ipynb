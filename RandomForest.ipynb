{
 "cells": [
  {
   "cell_type": "markdown",
   "metadata": {},
   "source": [
    "# Random Forest\n",
    "\n",
    "Definition of a Random Forest\n",
    "---\n",
    "\n",
    "### Improving on Decision Trees\n",
    "\n",
    "The main drawback of decision trees is their tendency to overfit. We can improve their performance with pruning techniques, but this module will introduce a better model. \n",
    "\n",
    "Decision trees are very susceptible to random idiosyncrasies in the training dataset. They have very high variance, which means if you randomly select the training dataset, you end up with very different models.\n",
    "\n",
    "One advantage of decision trees over models like logistic regression is that they make no assumptions about how the data is structured. In logistic regression, we assume to draw a line to split the data points. Sometimes when the data is not structured like that, decision trees can still capture the essence of the data.\n",
    "\n",
    "This module is about **random forests**. As its name suggests, it is a model built with multiple trees. The goal of random forests is to take advantage of decision trees while mitigating the variance issue."
   ]
  },
  {
   "cell_type": "markdown",
   "metadata": {},
   "source": [
    "### Bootstrap Aggregation\n",
    "\n",
    "A **bootstrapping sample** is a random sample of data points where we randomly select with replacement data points from our original dataset to create a dataset of the same size. For example, if we have four data points $A, B, C, D$, these could be 3 resamples:"
   ]
  },
  {
   "cell_type": "code",
   "execution_count": 1,
   "metadata": {},
   "outputs": [
    {
     "name": "stdout",
     "output_type": "stream",
     "text": [
      "['C' 'B' 'A' 'A']\n",
      "['A' 'B' 'D' 'C']\n",
      "['B' 'B' 'A' 'C']\n"
     ]
    }
   ],
   "source": [
    "import numpy as np\n",
    "\n",
    "\n",
    "data = np.array(list(\"ABCD\"))\n",
    "for _ in range(3):\n",
    "    print(np.random.choice(data, size=data.size))"
   ]
  },
  {
   "cell_type": "markdown",
   "metadata": {},
   "source": [
    "**Bootstrap Aggregation** (or **Bagging**) is a technique for reducing the variance in an individual model by creating an ensemble from multiple models built on bootstrapped samples. To make a prediction, we take the predictions of all the base models."
   ]
  },
  {
   "cell_type": "markdown",
   "metadata": {},
   "source": [
    "### Decorrelate the Trees\n",
    "\n",
    "With bagged decision trees, the trees may still be too similar to create an ideal model. We also **decorrelate the trees** by limiting their access to the features of a dataset. At every node, we randomly select a subset of all features to consider when splitting. _It's important to note that the random selection of features happens at each node._ A standard choice for the number of features to consider at each split is the square root of the number of features.\n",
    "\n",
    "Now when we bag these decision trees, we get a **random forest**. Although each decision tree may perform worse than a standard decision tree, the ensemble should perform well and become less prone to variance in a dataset."
   ]
  },
  {
   "cell_type": "markdown",
   "metadata": {},
   "source": [
    "## Random Forest with Scikit-Learn\n",
    "\n",
    "### Review of Breast Cancer Dataset\n",
    "\n",
    "Recall that the dataset has measures of different attributes of a lump in breast tissue and whether the tumor is benign or malignant. Again, we prepare the data."
   ]
  },
  {
   "cell_type": "code",
   "execution_count": 2,
   "metadata": {},
   "outputs": [
    {
     "name": "stdout",
     "output_type": "stream",
     "text": [
      "X.shape = (569, 30)\n",
      "y.shape = (569,)\n"
     ]
    }
   ],
   "source": [
    "import pandas as pd\n",
    "from sklearn.datasets import load_breast_cancer\n",
    "\n",
    "\n",
    "cancer_data = load_breast_cancer()\n",
    "feature_names = cancer_data[\"feature_names\"]\n",
    "df = pd.DataFrame(cancer_data[\"data\"], columns=feature_names)\n",
    "df[\"target\"] = cancer_data[\"target\"]\n",
    "\n",
    "X = df[feature_names].values\n",
    "y = df[\"target\"].values\n",
    "\n",
    "print(f\"{X.shape = }\")\n",
    "print(f\"{y.shape = }\")"
   ]
  },
  {
   "cell_type": "markdown",
   "metadata": {},
   "source": [
    "### Building and Using a Random Forest\n",
    "\n",
    "The process of building and using a random forest is similar to that for Logistic Regression and Decision Trees. _The builders of scikit-learn intentionally made it so that it would be easy to switch between and compare different models. You can see for yourself at the end of this section._\n",
    "\n",
    "We first import that model."
   ]
  },
  {
   "cell_type": "code",
   "execution_count": 3,
   "metadata": {},
   "outputs": [],
   "source": [
    "from sklearn.ensemble import RandomForestClassifier"
   ]
  },
  {
   "cell_type": "markdown",
   "metadata": {},
   "source": [
    "Then, we split the dataset into a training set and test set like before. _We set the random seed so that the results are replicable for demonstration purposes._"
   ]
  },
  {
   "cell_type": "code",
   "execution_count": 4,
   "metadata": {},
   "outputs": [],
   "source": [
    "from sklearn.model_selection import train_test_split\n",
    "\n",
    "\n",
    "seed = 195512  # The year and month the first AI program is created.\n",
    "\n",
    "X_train, X_test, y_train, y_test = train_test_split(X, y, random_state=seed)"
   ]
  },
  {
   "cell_type": "markdown",
   "metadata": {},
   "source": [
    "Then we create a `RandomForestClassifier` object and train the model."
   ]
  },
  {
   "cell_type": "code",
   "execution_count": 5,
   "metadata": {},
   "outputs": [
    {
     "data": {
      "text/plain": [
       "RandomForestClassifier()"
      ]
     },
     "execution_count": 5,
     "metadata": {},
     "output_type": "execute_result"
    }
   ],
   "source": [
    "rf = RandomForestClassifier()\n",
    "rf.fit(X_train, y_train)"
   ]
  },
  {
   "cell_type": "markdown",
   "metadata": {},
   "source": [
    "Now we can use the model to make a prediction. For example, let's take the first row of the test set and see what the prediction is."
   ]
  },
  {
   "cell_type": "code",
   "execution_count": 6,
   "metadata": {},
   "outputs": [
    {
     "name": "stdout",
     "output_type": "stream",
     "text": [
      "prediction 1\n",
      "true value 1\n"
     ]
    }
   ],
   "source": [
    "first_row = X_test[0].reshape(1, -1)\n",
    "first_pred, = rf.predict(first_row)\n",
    "print(\"prediction\", first_pred)\n",
    "print(\"true value\", y_test[0])"
   ]
  },
  {
   "cell_type": "markdown",
   "metadata": {},
   "source": [
    "These results mean that the model predicted that the lump was cancerous and it was correct. We can further test the model's accuracy over the whole test set."
   ]
  },
  {
   "cell_type": "code",
   "execution_count": 7,
   "metadata": {},
   "outputs": [
    {
     "name": "stdout",
     "output_type": "stream",
     "text": [
      "accuracy 0.986013986013986\n"
     ]
    }
   ],
   "source": [
    "print(\"accuracy\", rf.score(X_test, y_test))"
   ]
  },
  {
   "cell_type": "markdown",
   "metadata": {},
   "source": [
    "The accuracy is about $98.6\\%$. We can compare its performance against the Decision Tree model."
   ]
  },
  {
   "cell_type": "code",
   "execution_count": 8,
   "metadata": {},
   "outputs": [
    {
     "name": "stdout",
     "output_type": "stream",
     "text": [
      "accuracy 0.9440559440559441\n"
     ]
    }
   ],
   "source": [
    "from sklearn.tree import DecisionTreeClassifier\n",
    "\n",
    "\n",
    "dt = DecisionTreeClassifier()\n",
    "dt.fit(X_train, y_train)\n",
    "print(\"accuracy\", dt.score(X_test, y_test))"
   ]
  },
  {
   "cell_type": "markdown",
   "metadata": {},
   "source": [
    "The accuracy of the decision tree is about $93.7\\%$, which is much worse than the random forest.\n",
    "\n",
    "_Note how easy it is to switch between models and compare them in scikit-learn._"
   ]
  },
  {
   "cell_type": "markdown",
   "metadata": {},
   "source": [
    "## Tuning a Random Forest\n",
    "\n",
    "### Random Forest Parameters\n",
    "\n",
    "To learn about all the attributes of the `RandomForestClassifier` in scikit-learn, read its [documentation](https://scikit-learn.org/stable/modules/generated/sklearn.ensemble.RandomForestClassifier.html).\n",
    "\n",
    "Since a random forest is made up of decision trees, we have all the same tuning parameters for pre-pruning as we do for decision trees: `max_depth`, `min_sample_leaf`, `max_leaf_nodes` etc. With random forests, it is generally not important to tune these as overfitting is generally not the primary issue.\n",
    "\n",
    "We will take a look at two new tuning parameters:\n",
    "- `n_estimators` - the number of trees;<br>\n",
    "  The default for this parameter is 10. This often works but may in some cases be too small.\n",
    "- `max_features` - the number of features to consider at each split.<br>\n",
    "  Recall that the default for this parameter is the square root of the number of features (or predictors).\n",
    "\n",
    "_One big advantage of Random Forests is that they rarely need much tuning. The default values work well on most datasets._"
   ]
  },
  {
   "cell_type": "markdown",
   "metadata": {},
   "source": [
    "### Grid Search\n",
    "\n",
    "Recall from the [Decision Tree notebook](attachment:./DecisionTree.ipynb), scikit-learn has built in a Grid Search class to help us find the optimal choice of parameters.\n",
    "\n",
    "First, we need to define the parameter grid with the name and values of the parameters to try."
   ]
  },
  {
   "cell_type": "code",
   "execution_count": 9,
   "metadata": {},
   "outputs": [
    {
     "data": {
      "text/plain": [
       "{'n_estimators': array([ 5, 10, 15, 20, 25, 30, 35, 40, 45, 50])}"
      ]
     },
     "execution_count": 9,
     "metadata": {},
     "output_type": "execute_result"
    }
   ],
   "source": [
    "param_grid_gs = {\n",
    "    \"n_estimators\": np.arange(5, 51, 5)\n",
    "}\n",
    "param_grid_gs"
   ]
  },
  {
   "cell_type": "markdown",
   "metadata": {},
   "source": [
    "Then, we can create a Random Forest model and a Grid Search object. Recall that the Grid Search will do k-fold cross validation for us. We set it to 5-fold cross validation."
   ]
  },
  {
   "cell_type": "code",
   "execution_count": 10,
   "metadata": {},
   "outputs": [],
   "source": [
    "from sklearn.model_selection import GridSearchCV\n",
    "\n",
    "\n",
    "rf_gs = RandomForestClassifier(random_state=seed)\n",
    "gs = GridSearchCV(rf_gs, param_grid_gs, cv=5)"
   ]
  },
  {
   "cell_type": "markdown",
   "metadata": {},
   "source": [
    "Now we use the `fit` method to run the grid search against our data. We print out the best parameters."
   ]
  },
  {
   "cell_type": "code",
   "execution_count": 11,
   "metadata": {},
   "outputs": [
    {
     "data": {
      "text/plain": [
       "{'n_estimators': 45}"
      ]
     },
     "execution_count": 11,
     "metadata": {},
     "output_type": "execute_result"
    }
   ],
   "source": [
    "gs.fit(X, y)\n",
    "gs.best_params_"
   ]
  },
  {
   "cell_type": "markdown",
   "metadata": {},
   "source": [
    "This is the parameter value that yields the highest accuracy, which is the default metric. The results vary from run to run as the 5-fold cross validation is random.\n",
    "\n",
    "Using the default metric works fine for this dataset as the classes are reasonably balanced. If the classes are imbalanced, we would want to use an alternative metric, like the f1-score. We can achieve this by setting the `scoring` parameter to `\"f1\"`."
   ]
  },
  {
   "cell_type": "markdown",
   "metadata": {},
   "source": [
    "### Elbow Graph\n",
    "\n",
    "With parameters like the number of trees in a random forest, increasing it will always increase performance until it levels out. However, in a random forest, the more trees we have, the more complicated the algorithm. A more complicated algorithm is more resource intensive.\n",
    "\n",
    "**Elbow Graph** is a model that optimizes performance without adding unnecessary complexity. To find the optimal value, we perform a Grid Search as before. But instead of looking at the best parameter values, we plot the test score against the number of estimators. The test score is stored in `cs_results_` attribute under the key `\"mean_test_score\"`."
   ]
  },
  {
   "cell_type": "code",
   "execution_count": 12,
   "metadata": {},
   "outputs": [
    {
     "data": {
      "image/png": "[encoded data removed]",
      "text/plain": [
       "<Figure size 432x288 with 1 Axes>"
      ]
     },
     "metadata": {
      "needs_background": "light"
     },
     "output_type": "display_data"
    }
   ],
   "source": [
    "import matplotlib.pyplot as plt\n",
    "\n",
    "n_estimators = np.arange(1, 50)\n",
    "\n",
    "param_grid_eg = {\n",
    "    \"n_estimators\": n_estimators\n",
    "}\n",
    "\n",
    "rf_eg = RandomForestClassifier(random_state=seed)\n",
    "gs_eg = GridSearchCV(rf, param_grid_eg, cv=5)\n",
    "gs_eg.fit(X, y)\n",
    "\n",
    "scores = gs_eg.cv_results_[\"mean_test_score\"]\n",
    "\n",
    "plt.plot(n_estimators, scores)\n",
    "plt.title(\"Accurancy vs. Number of Estimators\")\n",
    "plt.xlabel(\"number of estimators\")\n",
    "plt.ylabel(\"accuracy\")\n",
    "plt.show()"
   ]
  },
  {
   "cell_type": "markdown",
   "metadata": {},
   "source": [
    "Looking at the graph, we see that at about 10 decision trees the graph levels out. We should choose about 10 as our number of estimators, because it yields about the maximum performance with the minimum number of estimators. With this knowledge, we build our final random forest model."
   ]
  },
  {
   "cell_type": "code",
   "execution_count": 13,
   "metadata": {},
   "outputs": [
    {
     "data": {
      "text/plain": [
       "RandomForestClassifier(n_estimators=10)"
      ]
     },
     "execution_count": 13,
     "metadata": {},
     "output_type": "execute_result"
    }
   ],
   "source": [
    "rf_final = RandomForestClassifier(n_estimators=10)\n",
    "rf_final.fit(X, y)"
   ]
  },
  {
   "cell_type": "markdown",
   "metadata": {},
   "source": [
    "## Feature Importance\n",
    "\n",
    "### Feature Importance\n",
    "\n",
    "Not all features in the dataset contribute equally to building a model. The decision of which subset of features to use is called **feature selection**.\n",
    "\n",
    "Random forests provide a straightforward method for feature selection: **mean decrease impurity**. Recall that a random forest consists of decision trees, and that for each tree, the node is chosen to split the dataset based on maximum decrease in impurity.Thus, for a forest, it is possible to compute how much impurity each features decreases on average in a tree. Consider this measure a metric of **feature importance**, which we can then rank and use to select features.\n",
    "\n",
    "The feature importance metric is provided as a variable with the random forest model. The values are scaled so they add up to 1. Let us see the importance of all features in our final model of the last section."
   ]
  },
  {
   "cell_type": "code",
   "execution_count": 14,
   "metadata": {},
   "outputs": [
    {
     "data": {
      "text/plain": [
       "mean concavity             0.175604\n",
       "worst perimeter            0.122003\n",
       "worst radius               0.120355\n",
       "mean concave points        0.111359\n",
       "worst concave points       0.085385\n",
       "mean radius                0.067230\n",
       "radius error               0.045832\n",
       "worst area                 0.042066\n",
       "mean compactness           0.040257\n",
       "mean perimeter             0.029187\n",
       "worst texture              0.019877\n",
       "area error                 0.016880\n",
       "mean texture               0.016640\n",
       "worst smoothness           0.015063\n",
       "worst symmetry             0.012208\n",
       "mean area                  0.011622\n",
       "concave points error       0.009309\n",
       "symmetry error             0.007771\n",
       "perimeter error            0.007280\n",
       "compactness error          0.006854\n",
       "smoothness error           0.006569\n",
       "mean symmetry              0.005961\n",
       "worst compactness          0.005095\n",
       "concavity error            0.004946\n",
       "mean fractal dimension     0.004562\n",
       "worst fractal dimension    0.004525\n",
       "worst concavity            0.002056\n",
       "fractal dimension error    0.001943\n",
       "texture error              0.001005\n",
       "mean smoothness            0.000559\n",
       "dtype: float64"
      ]
     },
     "execution_count": 14,
     "metadata": {},
     "output_type": "execute_result"
    }
   ],
   "source": [
    "ft_imp = pd.Series(rf_final.feature_importances_,index=feature_names)\n",
    "ft_imp.sort_values(ascending=False, inplace=True)\n",
    "ft_imp"
   ]
  },
  {
   "cell_type": "markdown",
   "metadata": {},
   "source": [
    "### New Model with Selected Features\n",
    "\n",
    "The top reason for feature selection is that it reduces the complexity of a model; it enables us to train a model faster and makes it easier to interpret. If the right subset is chosen, it can remove some noise and highly correlated features, resulting in increased accuracy."
   ]
  },
  {
   "cell_type": "code",
   "execution_count": 15,
   "metadata": {},
   "outputs": [
    {
     "data": {
      "text/plain": [
       "0.958041958041958"
      ]
     },
     "execution_count": 15,
     "metadata": {},
     "output_type": "execute_result"
    }
   ],
   "source": [
    "imp_features = ft_imp.index[:10]\n",
    "X_ft = df[imp_features]\n",
    "X_train_ft, X_test_ft, y_train_ft, y_test_ft = \\\n",
    "    train_test_split(X_ft, y, random_state=seed)\n",
    "\n",
    "rf_ft = RandomForestClassifier()\n",
    "rf_ft.fit(X_train_ft, y_train_ft)\n",
    "rf_ft.score(X_test_ft, y_test_ft)"
   ]
  },
  {
   "cell_type": "markdown",
   "metadata": {},
   "source": [
    "We can see we reduced the complexity of our model by a factor of $3$ while maintaining the accuracy. The advantage is especially profound if the sample size is large.\n",
    "\n",
    "_There is no best feature selection method universally. Choosing the right subset often relies on domain knowledge._"
   ]
  },
  {
   "cell_type": "markdown",
   "metadata": {},
   "source": [
    "## Pros and Cons\n",
    "\n",
    "### Performance\n",
    "\n",
    "The biggest advantage of random forests is that they generally perform well without any tuning.\n",
    "\n",
    "They will also perform decently well on almost every dataset. A linear model, for example, cannot perform well on a dataset that cannot be split with a line. However, a random forest will perform just fine on such a dataset.\n",
    "\n",
    "### Interpretability\n",
    "\n",
    "Random forests, despite being made up of decision trees, are not as easy to interpret. A random forest has several decision trees, each of which is NOT a very good model, only when averaged create an excellent model.\n",
    "\n",
    "### Computation\n",
    "\n",
    "Random forests can be a little slow to build, especially with increasing number of estimators. Although each decision tree in the ensemble is easier to build, given the quantity of decision trees it is often slow to build. Similarly, predicting with a random forest will also be slower than a standard decision tree."
   ]
  }
 ],
 "metadata": {
  "kernelspec": {
   "display_name": "Python 3 (ipykernel)",
   "language": "python",
   "name": "python3"
  },
  "language_info": {
   "codemirror_mode": {
    "name": "ipython",
    "version": 3
   },
   "file_extension": ".py",
   "mimetype": "text/x-python",
   "name": "python",
   "nbconvert_exporter": "python",
   "pygments_lexer": "ipython3",
   "version": "3.9.7"
  }
 },
 "nbformat": 4,
 "nbformat_minor": 4
}
