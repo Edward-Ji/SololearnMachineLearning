{
 "cells": [
  {
   "cell_type": "markdown",
   "metadata": {},
   "source": [
    "# The Basics\n",
    "## What is Machine Learning?\n",
    "---\n",
    "### Machine Learning Overview\n",
    "Machine learning is a way of taking data and turning it into insights. We use computer examples to __analyze__ examples from the past to __build__ a model that can predict the result for new examples. Machine learning can be used to create chat bots, detect spam or produce image recognition.\n",
    "One of the most common programming language for machine learning is Python. There are a number of packages useful for dealing with data and building machine learning models:\n",
    "- Pandas is used for reading data and data manipulation\n",
    "- Numpy is used for computations of numerical data\n",
    "- Matplotlib is used for graphing data\n",
    "- Scikit-learn is used for machine learning models\n",
    "\n",
    "### Course Contents\n",
    "In machine learning, there is supervised and unsupervised learning. __Supervised__ learning is when we have a know target based on past data and __unsupervised__ learning is when there isn't a known past answer.\n",
    "\n",
    "Machine learning problems can also be separated into classification and regression problems. __Regression__ is predicting a numeric value, whereas __classification__ is predicting what class something belongs to.\n",
    "\n",
    "This course focuses on __supervised classification__ problems. Our examples include:\n",
    "- Predicting who would survive the Titanic crash\n",
    "- Determining a handwritten digit from an image\n",
    "- Using biopsy data to classify if a lump is cancerous\n",
    "\n",
    "We'll be using a number of techniques to tackle these problems:\n",
    "- Logistic regression\n",
    "- Decision trees\n",
    "- Random forests\n",
    "- Neural networks\n",
    "\n",
    "## Statistics Review\n",
    "---\n",
    "### Average"
   ]
  },
  {
   "cell_type": "code",
   "execution_count": 1,
   "metadata": {},
   "outputs": [
    {
     "data": {
      "text/plain": [
       "23.0"
      ]
     },
     "execution_count": 1,
     "metadata": {},
     "output_type": "execute_result"
    }
   ],
   "source": [
    "ages = [15, 16, 18, 19, 22, 24, 29, 30, 34]\n",
    "sum(ages) / len(ages)  # average"
   ]
  },
  {
   "cell_type": "code",
   "execution_count": 2,
   "metadata": {},
   "outputs": [
    {
     "data": {
      "text/plain": [
       "22"
      ]
     },
     "execution_count": 2,
     "metadata": {},
     "output_type": "execute_result"
    }
   ],
   "source": [
    "ages[len(ages) // 2]  # median"
   ]
  },
  {
   "cell_type": "markdown",
   "metadata": {},
   "source": [
    "_In statistics, both the **mean** and the **median** are called averages. The layman's average is the mean._\n",
    "\n",
    "### Percentiles\n",
    "The median can be thought of the __50th percentile__. This means that 50% of data is less than the median and 50% of the data is greater than the median. This only tells us the middle of the data, we'll often also look at the __25th__ percentile and __75th__ percentile.\n",
    "The 25th percentile and the 75th percentile in `ages` is `18` and `29` respectively. The full range of the data is between 15 and 34. Half of them is between 18 and 29. This helps us to gain an understanding of the distribution of the data.\n",
    "\n",
    "_If there is an even number of data points, to find the median, take the mean of the two values in the middle._\n",
    "\n",
    "### Standard Deviation and Variance\n",
    "The standard deviation and variance are measures of how dispersed or spread out the data is. Measure how far each datapoint is from the mean.\n",
    "\n",
    "The distance of each value from the mean 23.0 is:\n",
    "> 8, 7, 5, 4, 1, 1, 6, 7, 11\n",
    "\n",
    "Squaring them and adding them together yields 362, dividing it by the total number of values gives the variance 40.22.\n",
    "\n",
    "To get the standard deviation, take the square root and get: 6.34\n",
    "\n",
    "### Statistics in Python\n",
    "All above features are implemented in Python package Numpy."
   ]
  },
  {
   "cell_type": "code",
   "execution_count": 4,
   "metadata": {},
   "outputs": [
    {
     "name": "stdout",
     "output_type": "stream",
     "text": [
      "mean: 23.0\n",
      "median: 22.0\n",
      "50th percentile (median): 22.0\n",
      "25th percentile: 18.0\n",
      "75th percentile: 29.0\n",
      "standard deviation: 6.342099196813483\n",
      "variance: 40.22222222222222\n"
     ]
    }
   ],
   "source": [
    "import numpy as np\n",
    "\n",
    "print(\"mean:\", np.mean(ages))\n",
    "print(\"median:\", np.median(ages))\n",
    "print(\"50th percentile (median):\", np.percentile(ages, 50))\n",
    "print(\"25th percentile:\", np.percentile(ages, 25))\n",
    "print(\"75th percentile:\", np.percentile(ages, 75))\n",
    "print(\"standard deviation:\", np.std(ages))\n",
    "print(\"variance:\", np.var(ages))"
   ]
  },
  {
   "cell_type": "markdown",
   "metadata": {},
   "source": [
    "## Information\n",
    "See [Sololearn Data Science](https://github.com/Edward-Ji/SololearnDataScience) for more content on data science libraries in Python."
   ]
  }
 ],
 "metadata": {
  "kernelspec": {
   "display_name": "Python 3 (ipykernel)",
   "language": "python",
   "name": "python3"
  },
  "language_info": {
   "codemirror_mode": {
    "name": "ipython",
    "version": 3
   },
   "file_extension": ".py",
   "mimetype": "text/x-python",
   "name": "python",
   "nbconvert_exporter": "python",
   "pygments_lexer": "ipython3",
   "version": "3.9.7"
  }
 },
 "nbformat": 4,
 "nbformat_minor": 4
}
